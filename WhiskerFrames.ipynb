{
 "cells": [
  {
   "cell_type": "markdown",
   "id": "4e8826ca-cce1-47a6-864f-5bd61a19bda7",
   "metadata": {
    "tags": []
   },
   "source": [
    "# Whisker Frames - Symbolic Notebook\n",
    "2025 - For generating the equations of the Whisker Frames project"
   ]
  },
  {
   "cell_type": "code",
   "execution_count": 1,
   "id": "5449d78d-ecd7-4b4b-a0e0-2a1e912352c9",
   "metadata": {},
   "outputs": [],
   "source": [
    "# !pip install sympy"
   ]
  },
  {
   "cell_type": "code",
   "execution_count": 2,
   "id": "1ec04ac1-252b-4c93-824d-8b36a7259275",
   "metadata": {},
   "outputs": [],
   "source": [
    "#imports\n",
    "import sympy as sym\n",
    "from sympy.solvers import solve\n",
    "from sympy import symbols, Matrix, sin, cos, tan, cot, atan, simplify, expand, Poly, Eq, integrate"
   ]
  },
  {
   "cell_type": "markdown",
   "id": "1728d12a-283e-46da-a0c1-00bab6b91456",
   "metadata": {},
   "source": [
    "## Some helper functions for Equation display"
   ]
  },
  {
   "cell_type": "code",
   "execution_count": 3,
   "id": "54066eb0-bad8-4231-b68a-242b4395f488",
   "metadata": {},
   "outputs": [],
   "source": [
    "def multi_Eq(sides):\n",
    "    if len(sides) == 1:\n",
    "        raise ValueError('must have at least 2 inputs')\n",
    "    elif len(sides) == 2:\n",
    "        return Eq(*sides,evaluate=False)\n",
    "    elif len(sides) > 2:\n",
    "        return Eq(sides[0],multi_Eq(sides[1:]),evaluate=False)\n",
    "    else:\n",
    "        raise ValueError('not the right input')\n",
    "        \n",
    "def Eqdisp(*args,label=None,linebreak=True):\n",
    "    multi_list = [symbols(arg) if type(arg)==str else arg for arg in args] #convert any strings to symbols\n",
    "    if len(multi_list) == 1:\n",
    "        display_Eq = multi_list[0]\n",
    "    else:\n",
    "        display_Eq = multi_Eq(multi_list)\n",
    "    #display!\n",
    "    if label is not None:\n",
    "        print(label)\n",
    "    display(display_Eq)\n",
    "    if linebreak:\n",
    "        print('\\n')"
   ]
  },
  {
   "cell_type": "markdown",
   "id": "8f25e1f1-0030-4cb1-91b1-7070a9ab262d",
   "metadata": {},
   "source": [
    "## Symbols and setup"
   ]
  },
  {
   "cell_type": "code",
   "execution_count": 4,
   "id": "87492ab0-905c-4d39-b2fb-6b1d4add2c0d",
   "metadata": {},
   "outputs": [],
   "source": [
    "#display variables\n",
    "r_d,u_d,w_d,phi_d = symbols('\\mathbf{r},\\mathbf{u},\\mathbf{w},\\Phi')\n",
    "#configuration variables\n",
    "r1,r2,th,u1,u2,w1,w2,a,b,p1,p2 = symbols(r'r1,r2,\\theta,u1,u2,w1,w2,\\alpha,\\beta,p1,p2',real=True)\n",
    "#parameter and other variables\n",
    "s,h,x,y = symbols(r's,h,x,y',real=True)\n",
    "lam = symbols(r'\\lambda')"
   ]
  },
  {
   "cell_type": "markdown",
   "id": "c6222de8-40f0-4f76-90c5-2d4239d95f8e",
   "metadata": {},
   "source": [
    "## 2.2: A vector model for the mechanism configuration and whisker orientations"
   ]
  },
  {
   "cell_type": "code",
   "execution_count": 5,
   "id": "c4d8c18f-a7b4-464f-9ead-bdb5d8223ea6",
   "metadata": {},
   "outputs": [],
   "source": [
    "#r vector\n",
    "r = Matrix([r1,r2])\n",
    "\n",
    "#\"x\" configuration\n",
    "x_conf = Matrix([r1,r2,th])\n",
    "\n",
    "#define w\n",
    "w = Matrix([w1,w2])\n",
    "w_x = Matrix([s*sin(th), 1-s*cos(th)])\n",
    "\n",
    "#define u as function of r1,r2,theta and as function of r1,r2,w1,w2\n",
    "u_x = w_x*h - r\n",
    "u_w = w*h - r"
   ]
  },
  {
   "cell_type": "code",
   "execution_count": 6,
   "id": "0554cbf2-2ed9-4dc1-9fbb-764e352cc169",
   "metadata": {},
   "outputs": [],
   "source": [
    "#define protraction in multiple forms\n",
    "prot_x = atan((u_x[1])/(u_x[0]))\n",
    "prot_w = atan((u_w[1])/(u_w[0]))\n",
    "prot_u = atan((u2)/(u1))\n",
    "\n",
    "#define spread\n",
    "sprd_x = sym.diff(prot_x,h)\n",
    "sprd_w = simplify(sym.diff(prot_w,h))"
   ]
  },
  {
   "cell_type": "code",
   "execution_count": 7,
   "id": "f8fe343a-9359-4bdf-b539-5103249558c6",
   "metadata": {},
   "outputs": [
    {
     "name": "stdout",
     "output_type": "stream",
     "text": [
      "the vectors r and w\n"
     ]
    },
    {
     "data": {
      "text/latex": [
       "$\\displaystyle r = \\left[\\begin{matrix}r_{1}\\\\r_{2}\\end{matrix}\\right]$"
      ],
      "text/plain": [
       "Eq(r, Matrix([\n",
       "[r1],\n",
       "[r2]]))"
      ]
     },
     "metadata": {},
     "output_type": "display_data"
    },
    {
     "data": {
      "text/latex": [
       "$\\displaystyle w = \\left[\\begin{matrix}s \\sin{\\left(\\theta \\right)}\\\\- s \\cos{\\left(\\theta \\right)} + 1\\end{matrix}\\right] = \\left[\\begin{matrix}w_{1}\\\\w_{2}\\end{matrix}\\right]$"
      ],
      "text/plain": [
       "Eq(w, Eq(Matrix([\n",
       "[     s*sin(\\theta)],\n",
       "[-s*cos(\\theta) + 1]]), Matrix([\n",
       "[w1],\n",
       "[w2]])))"
      ]
     },
     "metadata": {},
     "output_type": "display_data"
    },
    {
     "name": "stdout",
     "output_type": "stream",
     "text": [
      "\n",
      "\n",
      "the vector u is defined as a function of r and w\n"
     ]
    },
    {
     "data": {
      "text/latex": [
       "$\\displaystyle u = h w - r = \\left[\\begin{matrix}h w_{1} - r_{1}\\\\h w_{2} - r_{2}\\end{matrix}\\right]$"
      ],
      "text/plain": [
       "Eq(u, Eq(h*w - r, Matrix([\n",
       "[h*w1 - r1],\n",
       "[h*w2 - r2]])))"
      ]
     },
     "metadata": {},
     "output_type": "display_data"
    },
    {
     "name": "stdout",
     "output_type": "stream",
     "text": [
      "\n",
      "\n",
      "Phi, or protraction, is defined like so\n"
     ]
    },
    {
     "data": {
      "text/latex": [
       "$\\displaystyle \\Phi = \\operatorname{atan}{\\left(\\frac{u_{2}}{u_{1}} \\right)} = \\operatorname{atan}{\\left(\\frac{h w_{2} - r_{2}}{h w_{1} - r_{1}} \\right)}$"
      ],
      "text/plain": [
       "Eq(\\Phi, Eq(atan(u2/u1), atan((h*w2 - r2)/(h*w1 - r1))))"
      ]
     },
     "metadata": {},
     "output_type": "display_data"
    },
    {
     "name": "stdout",
     "output_type": "stream",
     "text": [
      "\n",
      "\n",
      "the derivative of phi, spread, is defined like so\n"
     ]
    },
    {
     "data": {
      "text/latex": [
       "$\\displaystyle \\frac{\\mathrm{d}\\Phi}{\\mathrm{d}h} = \\frac{- w_{1} \\left(h w_{2} - r_{2}\\right) + w_{2} \\left(h w_{1} - r_{1}\\right)}{\\left(h w_{1} - r_{1}\\right)^{2} + \\left(h w_{2} - r_{2}\\right)^{2}}$"
      ],
      "text/plain": [
       "Eq(\\frac{\\mathrm{d}\\Phi}{\\mathrm{d}h}, (-w1*(h*w2 - r2) + w2*(h*w1 - r1))/((h*w1 - r1)**2 + (h*w2 - r2)**2))"
      ]
     },
     "metadata": {},
     "output_type": "display_data"
    },
    {
     "name": "stdout",
     "output_type": "stream",
     "text": [
      "\n",
      "\n"
     ]
    }
   ],
   "source": [
    "#2.2 equation displays\n",
    "disps = True\n",
    "if disps:\n",
    "    #definitions\n",
    "    Eqdisp('r',r,label='the vectors r and w',linebreak=False)\n",
    "    Eqdisp('w',w_x,w)\n",
    "    \n",
    "    #u\n",
    "    Eqdisp('u',symbols('w')*h - symbols('r'),u_w,label='the vector u is defined as a function of r and w')\n",
    "    \n",
    "    #phi and dphi\n",
    "    Eqdisp(r'\\Phi',prot_u,prot_w,label='Phi, or protraction, is defined like so')\n",
    "    Eqdisp(r'\\frac{\\mathrm{d}\\Phi}{\\mathrm{d}h}',sprd_w,label='the derivative of phi, spread, is defined like so')"
   ]
  },
  {
   "cell_type": "markdown",
   "id": "efcd8ecf-5fd7-445c-942c-b4788ab85edb",
   "metadata": {},
   "source": [
    "## 2.3 Generalizing the analysis to every point in the x-y plane reveals that every control frame configuration is associated with a parabola"
   ]
  },
  {
   "cell_type": "code",
   "execution_count": 8,
   "id": "f2404744-4084-4855-865b-729c45f5d09b",
   "metadata": {},
   "outputs": [],
   "source": [
    "#the arbitrary point will be defined here as z = (x,y)\n",
    "z = Matrix([x,y])\n",
    "\n",
    "#q vector\n",
    "q = Matrix([x,y-h])\n",
    "\n",
    "#magnitude of cross(u,q)\n",
    "ucrossq_x = (u_x[0]*q[1])-(u_x[1]*q[0])\n",
    "ucrossq_w = (u_w[0]*q[1])-(u_w[1]*q[0])\n",
    "\n",
    "#solve for h when ucrossq = 0\n",
    "solveh_x = solve(ucrossq_x,h)\n",
    "solveh_w = solve(ucrossq_w,h)"
   ]
  },
  {
   "cell_type": "code",
   "execution_count": 9,
   "id": "19273a14-a468-4c0f-b8fc-964191ef2b96",
   "metadata": {},
   "outputs": [],
   "source": [
    "#get the discriminant (inside square root term) of the solution\n",
    "sqrt_term_x = solveh_x[0].args[3].args[2].args[1]\n",
    "sqrt_term_w = -solveh_w[0].args[2].args[1]\n",
    "\n",
    "#the conic equation is equal to the descriminant\n",
    "conic_x = sqrt_term_x**2\n",
    "conic_w = sqrt_term_w**2\n",
    "\n",
    "#wrap the conic in a Polynomial object\n",
    "conic_poly_x = Poly(conic_x, [x,y])\n",
    "conic_poly_w = Poly(conic_w, [x,y])\n",
    "\n",
    "#Get coefficients\n",
    "coeffs_x = conic_poly_x.coeffs()\n",
    "coeffs_w = conic_poly_w.coeffs()"
   ]
  },
  {
   "cell_type": "code",
   "execution_count": 10,
   "id": "ca50cecc-0223-4ec4-927d-e81fe62353b6",
   "metadata": {},
   "outputs": [],
   "source": [
    "#piece together the matrix form \n",
    "a,b,d,c,e,f = coeffs_x\n",
    "A_x = Matrix([[a,b/2,d/2],\n",
    "              [b/2,c,e/2],\n",
    "              [d/2,e/2,f]])\n",
    "a,b,d,c,e,f = coeffs_w\n",
    "A_w = Matrix([[a,b/2,d/2],\n",
    "              [b/2,c,e/2],\n",
    "              [d/2,e/2,f]])\n",
    "\n",
    "#classification\n",
    "A33 = A_w[0:2,0:2]\n",
    "detA33 = A33.det()\n",
    "\n",
    "#degenerate conditions\n",
    "degeneracy = A_w.det().simplify()"
   ]
  },
  {
   "cell_type": "code",
   "execution_count": 11,
   "id": "72b112f7-d656-4df1-aedd-56fa8593e21d",
   "metadata": {},
   "outputs": [
    {
     "name": "stdout",
     "output_type": "stream",
     "text": [
      "the vector q\n"
     ]
    },
    {
     "data": {
      "text/latex": [
       "$\\displaystyle q = \\left[\\begin{matrix}x\\\\- h + y\\end{matrix}\\right]$"
      ],
      "text/plain": [
       "Eq(q, Matrix([\n",
       "[     x],\n",
       "[-h + y]]))"
      ]
     },
     "metadata": {},
     "output_type": "display_data"
    },
    {
     "name": "stdout",
     "output_type": "stream",
     "text": [
      "\n",
      "\n",
      "the value of |u x q|\n"
     ]
    },
    {
     "data": {
      "text/latex": [
       "$\\displaystyle - x \\left(h w_{2} - r_{2}\\right) + \\left(- h + y\\right) \\left(h w_{1} - r_{1}\\right)$"
      ],
      "text/plain": [
       "-x*(h*w2 - r2) + (-h + y)*(h*w1 - r1)"
      ]
     },
     "metadata": {},
     "output_type": "display_data"
    },
    {
     "name": "stdout",
     "output_type": "stream",
     "text": [
      "\n",
      "\n",
      "solving for h when u x q = 0\n"
     ]
    },
    {
     "data": {
      "text/latex": [
       "$\\displaystyle h = \\frac{r_{1} + w_{1} y - w_{2} x - \\sqrt{r_{1}^{2} - 2 r_{1} w_{1} y - 2 r_{1} w_{2} x + 4 r_{2} w_{1} x + w_{1}^{2} y^{2} - 2 w_{1} w_{2} x y + w_{2}^{2} x^{2}}}{2 w_{1}}$"
      ],
      "text/plain": [
       "Eq(h, (r1 + w1*y - w2*x - sqrt(r1**2 - 2*r1*w1*y - 2*r1*w2*x + 4*r2*w1*x + w1**2*y**2 - 2*w1*w2*x*y + w2**2*x**2))/(2*w1))"
      ]
     },
     "metadata": {},
     "output_type": "display_data"
    },
    {
     "name": "stdout",
     "output_type": "stream",
     "text": [
      "\n",
      "\n",
      "value of the discriminant is a conic section (parabola)\n"
     ]
    },
    {
     "data": {
      "text/latex": [
       "$\\displaystyle conic = r_{1}^{2} - 2 r_{1} w_{1} y - 2 r_{1} w_{2} x + 4 r_{2} w_{1} x + w_{1}^{2} y^{2} - 2 w_{1} w_{2} x y + w_{2}^{2} x^{2}$"
      ],
      "text/plain": [
       "Eq(conic, r1**2 - 2*r1*w1*y - 2*r1*w2*x + 4*r2*w1*x + w1**2*y**2 - 2*w1*w2*x*y + w2**2*x**2)"
      ]
     },
     "metadata": {},
     "output_type": "display_data"
    },
    {
     "name": "stdout",
     "output_type": "stream",
     "text": [
      "\n",
      "\n",
      "we can express the parabola in matrix form\n"
     ]
    },
    {
     "data": {
      "text/latex": [
       "$\\displaystyle conic = {z^T}Az$"
      ],
      "text/plain": [
       "Eq(conic, {z^T}Az)"
      ]
     },
     "metadata": {},
     "output_type": "display_data"
    },
    {
     "data": {
      "text/latex": [
       "$\\displaystyle A = \\left[\\begin{matrix}w_{2}^{2} & - w_{1} w_{2} & - r_{1} w_{2} + 2 r_{2} w_{1}\\\\- w_{1} w_{2} & w_{1}^{2} & - r_{1} w_{1}\\\\- r_{1} w_{2} + 2 r_{2} w_{1} & - r_{1} w_{1} & r_{1}^{2}\\end{matrix}\\right]$"
      ],
      "text/plain": [
       "Eq(A, Matrix([\n",
       "[           w2**2, -w1*w2, -r1*w2 + 2*r2*w1],\n",
       "[          -w1*w2,  w1**2,           -r1*w1],\n",
       "[-r1*w2 + 2*r2*w1, -r1*w1,            r1**2]]))"
      ]
     },
     "metadata": {},
     "output_type": "display_data"
    },
    {
     "data": {
      "text/latex": [
       "$\\displaystyle z = \\left[\\begin{matrix}x\\\\y\\\\1\\end{matrix}\\right]$"
      ],
      "text/plain": [
       "Eq(z, Matrix([\n",
       "[x],\n",
       "[y],\n",
       "[1]]))"
      ]
     },
     "metadata": {},
     "output_type": "display_data"
    },
    {
     "name": "stdout",
     "output_type": "stream",
     "text": [
      "\n",
      "\n",
      "the parabola is degenerate when the following expression is satisfied\n"
     ]
    },
    {
     "data": {
      "text/latex": [
       "$\\displaystyle 4 w_{1}^{2} \\left(- r_{1}^{2} w_{2}^{2} + 2 r_{1} r_{2} w_{1} w_{2} - r_{2}^{2} w_{1}^{2}\\right) = 0$"
      ],
      "text/plain": [
       "Eq(4*w1**2*(-r1**2*w2**2 + 2*r1*r2*w1*w2 - r2**2*w1**2), 0)"
      ]
     },
     "metadata": {},
     "output_type": "display_data"
    },
    {
     "name": "stdout",
     "output_type": "stream",
     "text": [
      "\n",
      "\n"
     ]
    }
   ],
   "source": [
    "#2.3 equation displays\n",
    "disps = True\n",
    "if disps:\n",
    "    #setup\n",
    "    Eqdisp('q',q,label='the vector q')\n",
    "    Eqdisp(ucrossq_w,label='the value of |u x q|')\n",
    "    \n",
    "    #solving for the parabola\n",
    "    Eqdisp('h',solveh_w[0],label='solving for h when u x q = 0')\n",
    "    Eqdisp('conic',conic_w,label='value of the discriminant is a conic section (parabola)')\n",
    "    \n",
    "    #matrix form and degeneracy\n",
    "    Eqdisp('conic',r'{z^T}Az',label='we can express the parabola in matrix form',linebreak=False)\n",
    "    Eqdisp('A',A_w,linebreak=False)\n",
    "    Eqdisp('z',Matrix([x,y,1]))\n",
    "    Eqdisp(degeneracy,0,label='the parabola is degenerate when the following expression is satisfied')\n",
    "    \n",
    "    "
   ]
  },
  {
   "cell_type": "markdown",
   "id": "b26dc580-88e1-48d4-b4c7-c64cd69bab36",
   "metadata": {},
   "source": [
    "## 2.4. A coordinate transformation relates each control frame configuration to the position and orientation of its associated parabola."
   ]
  },
  {
   "cell_type": "code",
   "execution_count": 12,
   "id": "af0ae8fa-2e02-41cc-bd9c-c533081c4eb3",
   "metadata": {},
   "outputs": [],
   "source": [
    "#find the axes of the parabola via principal axis theorem (only doing this for A_w)\n",
    "A33 = A_w[0:2,0:2]\n",
    "A_ev = A33.eigenvects()\n",
    "evec1,evec2 = A_ev[0][2][0], A_ev[1][2][0]\n",
    "\n",
    "#define change-of-basis matrix W\n",
    "W = Matrix([[w2,w1],[-w1,w2]])\n",
    "W_inv = W.inv()\n",
    "\n",
    "#define p vector\n",
    "p_p = Matrix([p1,p2])\n",
    "\n",
    "#get p to r conversions\n",
    "r_p = W*p_p\n",
    "p_r = W_inv*r\n",
    "p_x = simplify(p_r.subs({w1:w_x[0],w2:w_x[1]}))\n",
    "\n",
    "#new configuration\n",
    "x_3_3 = Matrix([p1,p2,th])"
   ]
  },
  {
   "cell_type": "code",
   "execution_count": 13,
   "id": "4805281b-f83c-4e5a-907d-cc4589548bca",
   "metadata": {},
   "outputs": [
    {
     "name": "stdout",
     "output_type": "stream",
     "text": [
      "The 2x2 submatrix\n"
     ]
    },
    {
     "data": {
      "text/latex": [
       "$\\displaystyle A_{33} = \\left[\\begin{matrix}w_{2}^{2} & - w_{1} w_{2}\\\\- w_{1} w_{2} & w_{1}^{2}\\end{matrix}\\right]$"
      ],
      "text/plain": [
       "Eq(A_{33}, Matrix([\n",
       "[ w2**2, -w1*w2],\n",
       "[-w1*w2,  w1**2]]))"
      ]
     },
     "metadata": {},
     "output_type": "display_data"
    },
    {
     "name": "stdout",
     "output_type": "stream",
     "text": [
      "\n",
      "\n",
      "Calculate the eigenvectors of A33: v1 and v2\n"
     ]
    },
    {
     "data": {
      "text/latex": [
       "$\\displaystyle v_{1} = \\left[\\begin{matrix}\\frac{w_{1}}{w_{2}}\\\\1\\end{matrix}\\right]$"
      ],
      "text/plain": [
       "Eq(v_{1}, Matrix([\n",
       "[w1/w2],\n",
       "[    1]]))"
      ]
     },
     "metadata": {},
     "output_type": "display_data"
    },
    {
     "data": {
      "text/latex": [
       "$\\displaystyle v_{2} = \\left[\\begin{matrix}- \\frac{w_{2}}{w_{1}}\\\\1\\end{matrix}\\right]$"
      ],
      "text/plain": [
       "Eq(v_{2}, Matrix([\n",
       "[-w2/w1],\n",
       "[     1]]))"
      ]
     },
     "metadata": {},
     "output_type": "display_data"
    },
    {
     "name": "stdout",
     "output_type": "stream",
     "text": [
      "\n",
      "\n",
      "The change of basis matrix\n"
     ]
    },
    {
     "data": {
      "text/latex": [
       "$\\displaystyle W = \\left[\\begin{matrix}w_{2} & w_{1}\\\\- w_{1} & w_{2}\\end{matrix}\\right]$"
      ],
      "text/plain": [
       "Eq(W, Matrix([\n",
       "[ w2, w1],\n",
       "[-w1, w2]]))"
      ]
     },
     "metadata": {},
     "output_type": "display_data"
    },
    {
     "name": "stdout",
     "output_type": "stream",
     "text": [
      "\n",
      "\n",
      "r in terms of p\n"
     ]
    },
    {
     "data": {
      "text/latex": [
       "$\\displaystyle r = Wp = \\left[\\begin{matrix}p_{1} w_{2} + p_{2} w_{1}\\\\- p_{1} w_{1} + p_{2} w_{2}\\end{matrix}\\right]$"
      ],
      "text/plain": [
       "Eq(r, Eq(Wp, Matrix([\n",
       "[ p1*w2 + p2*w1],\n",
       "[-p1*w1 + p2*w2]])))"
      ]
     },
     "metadata": {},
     "output_type": "display_data"
    },
    {
     "name": "stdout",
     "output_type": "stream",
     "text": [
      "\n",
      "\n",
      "p in terms of r\n"
     ]
    },
    {
     "data": {
      "text/latex": [
       "$\\displaystyle p = W^{-1}r = \\left[\\begin{matrix}\\frac{r_{1} w_{2}}{w_{1}^{2} + w_{2}^{2}} - \\frac{r_{2} w_{1}}{w_{1}^{2} + w_{2}^{2}}\\\\\\frac{r_{1} w_{1}}{w_{1}^{2} + w_{2}^{2}} + \\frac{r_{2} w_{2}}{w_{1}^{2} + w_{2}^{2}}\\end{matrix}\\right] = parabolicfocus$"
      ],
      "text/plain": [
       "Eq(p, Eq(W^{-1}r, Eq(Matrix([\n",
       "[r1*w2/(w1**2 + w2**2) - r2*w1/(w1**2 + w2**2)],\n",
       "[r1*w1/(w1**2 + w2**2) + r2*w2/(w1**2 + w2**2)]]), parabolicfocus)))"
      ]
     },
     "metadata": {},
     "output_type": "display_data"
    },
    {
     "name": "stdout",
     "output_type": "stream",
     "text": [
      "\n",
      "\n",
      "p in terms of r, s, theta\n"
     ]
    },
    {
     "data": {
      "text/latex": [
       "$\\displaystyle p = \\left[\\begin{matrix}\\frac{- r_{1} s \\cos{\\left(\\theta \\right)} + r_{1} - r_{2} s \\sin{\\left(\\theta \\right)}}{s^{2} - 2 s \\cos{\\left(\\theta \\right)} + 1}\\\\\\frac{r_{1} s \\sin{\\left(\\theta \\right)} - r_{2} s \\cos{\\left(\\theta \\right)} + r_{2}}{s^{2} - 2 s \\cos{\\left(\\theta \\right)} + 1}\\end{matrix}\\right]$"
      ],
      "text/plain": [
       "Eq(p, Matrix([\n",
       "[(-r1*s*cos(\\theta) + r1 - r2*s*sin(\\theta))/(s**2 - 2*s*cos(\\theta) + 1)],\n",
       "[ (r1*s*sin(\\theta) - r2*s*cos(\\theta) + r2)/(s**2 - 2*s*cos(\\theta) + 1)]]))"
      ]
     },
     "metadata": {},
     "output_type": "display_data"
    },
    {
     "name": "stdout",
     "output_type": "stream",
     "text": [
      "\n",
      "\n"
     ]
    }
   ],
   "source": [
    "#2.4 displays\n",
    "Eqdisp(r'A_{33}',A33,label='The 2x2 submatrix')\n",
    "Eqdisp(r'v_{1}',evec1,label='Calculate the eigenvectors of A33: v1 and v2',linebreak=False)\n",
    "Eqdisp(r'v_{2}',evec2)\n",
    "Eqdisp('W',W,label='The change of basis matrix')\n",
    "Eqdisp('r','Wp',r_p,label='r in terms of p')\n",
    "Eqdisp('p',r'W^{-1}r',p_r,'parabolicfocus',label='p in terms of r')\n",
    "Eqdisp('p',p_x,label='p in terms of r, s, theta')"
   ]
  },
  {
   "cell_type": "markdown",
   "id": "6eb3a9b7-3979-459c-8379-f5bc06cab232",
   "metadata": {},
   "source": [
    "## 2.5 The new coordinate system allows for independent control of protraction and fanning"
   ]
  },
  {
   "cell_type": "code",
   "execution_count": 14,
   "id": "375a1a42-fade-4755-a590-13274f2e7518",
   "metadata": {},
   "outputs": [],
   "source": [
    "#get u in terms of p. Simplify using U matrix\n",
    "u_p = w*h-r_p\n",
    "U = Matrix([[h-p2,-p1],[p1,h-p2]])\n",
    "# simplify(u_p[0]**2 + u_p[1]**2)\n",
    "\n",
    "#calculate protraction and spread\n",
    "prot_p = atan((u_p[1])/(u_p[0]))\n",
    "sprd_p = simplify(sym.diff(prot_p,h))\n",
    "\n",
    "#more justification for sprd_p\n",
    "sprd_num = expand(u_p[0]**2)\n",
    "sprd_denom = expand(u_p[0]**2 + u_p[1]**2)\n",
    "# Eqdisp('num',sprd_num)\n",
    "# Eqdisp('denom',sprd_denom)\n",
    "\n",
    "#differentiating phi with respect to theta...\n",
    "dphi_dth = simplify(prot_p.subs({w1:w_x[0],w2:w_x[1]}).diff(th))\n",
    "\n",
    "#verifying the expression in (31) is a correct antiderivative (this expression was obtained by hand, verified here)\n",
    "soln_31 = th-sym.atan((s-cos(th))/(sin(th)))\n",
    "is_d31_30 = dphi_dth.equals(soln_31.diff(th))"
   ]
  },
  {
   "cell_type": "code",
   "execution_count": 15,
   "id": "718b0020-e2af-4ce8-ac1b-1c4a9fc7a63f",
   "metadata": {},
   "outputs": [
    {
     "name": "stdout",
     "output_type": "stream",
     "text": [
      "the u vector in terms of p\n"
     ]
    },
    {
     "data": {
      "text/latex": [
       "$\\displaystyle u = - Wp + h w = \\left[\\begin{matrix}h w_{1} - p_{1} w_{2} - p_{2} w_{1}\\\\h w_{2} + p_{1} w_{1} - p_{2} w_{2}\\end{matrix}\\right] = Uw$"
      ],
      "text/plain": [
       "Eq(u, Eq(-Wp + h*w, Eq(Matrix([\n",
       "[h*w1 - p1*w2 - p2*w1],\n",
       "[h*w2 + p1*w1 - p2*w2]]), Uw)))"
      ]
     },
     "metadata": {},
     "output_type": "display_data"
    },
    {
     "data": {
      "text/latex": [
       "$\\displaystyle U = \\left[\\begin{matrix}h - p_{2} & - p_{1}\\\\p_{1} & h - p_{2}\\end{matrix}\\right]$"
      ],
      "text/plain": [
       "Eq(U, Matrix([\n",
       "[h - p2,    -p1],\n",
       "[    p1, h - p2]]))"
      ]
     },
     "metadata": {},
     "output_type": "display_data"
    },
    {
     "name": "stdout",
     "output_type": "stream",
     "text": [
      "\n",
      "\n",
      "check that matrix U is correctly defined\n"
     ]
    },
    {
     "data": {
      "text/latex": [
       "$\\displaystyle - Uw + u = \\left[\\begin{matrix}0\\\\0\\end{matrix}\\right]$"
      ],
      "text/plain": [
       "Eq(-Uw + u, Matrix([\n",
       "[0],\n",
       "[0]]))"
      ]
     },
     "metadata": {},
     "output_type": "display_data"
    },
    {
     "name": "stdout",
     "output_type": "stream",
     "text": [
      "\n",
      "\n",
      "protraction with respect to p\n"
     ]
    },
    {
     "data": {
      "text/latex": [
       "$\\displaystyle \\Phi = \\operatorname{atan}{\\left(\\frac{h w_{2} + p_{1} w_{1} - p_{2} w_{2}}{h w_{1} - p_{1} w_{2} - p_{2} w_{1}} \\right)}$"
      ],
      "text/plain": [
       "Eq(Phi, atan((h*w2 + p1*w1 - p2*w2)/(h*w1 - p1*w2 - p2*w1)))"
      ]
     },
     "metadata": {},
     "output_type": "display_data"
    },
    {
     "name": "stdout",
     "output_type": "stream",
     "text": [
      "\n",
      "\n",
      "spread with respect to p\n"
     ]
    },
    {
     "data": {
      "text/latex": [
       "$\\displaystyle \\frac{\\mathrm{d}\\Phi}{\\mathrm{d}h} = - \\frac{p_{1}}{h^{2} - 2 h p_{2} + p_{1}^{2} + p_{2}^{2}}$"
      ],
      "text/plain": [
       "Eq(\\frac{\\mathrm{d}\\Phi}{\\mathrm{d}h}, -p1/(h**2 - 2*h*p2 + p1**2 + p2**2))"
      ]
     },
     "metadata": {},
     "output_type": "display_data"
    },
    {
     "name": "stdout",
     "output_type": "stream",
     "text": [
      "\n",
      "\n",
      "equation 31 is the antiderivative of dphi/dth. (hard-coded here, obtained on paper)\n"
     ]
    },
    {
     "data": {
      "text/latex": [
       "$\\displaystyle (31) = \\theta - \\operatorname{atan}{\\left(\\frac{s - \\cos{\\left(\\theta \\right)}}{\\sin{\\left(\\theta \\right)}} \\right)}$"
      ],
      "text/plain": [
       "Eq((31), \\theta - atan((s - cos(\\theta))/sin(\\theta)))"
      ]
     },
     "metadata": {},
     "output_type": "display_data"
    },
    {
     "name": "stdout",
     "output_type": "stream",
     "text": [
      "\n",
      "\n",
      "is the expression in (31) a correct antiderivative of dphi/dth?\n"
     ]
    },
    {
     "data": {
      "text/plain": [
       "True"
      ]
     },
     "metadata": {},
     "output_type": "display_data"
    },
    {
     "name": "stdout",
     "output_type": "stream",
     "text": [
      "\n",
      "\n"
     ]
    }
   ],
   "source": [
    "#2.5 displays\n",
    "Eqdisp('u',symbols('w')*h-symbols('Wp'),u_p,'Uw',label='the u vector in terms of p',linebreak=False)\n",
    "Eqdisp('U',U)\n",
    "Eqdisp(symbols('u')-symbols('Uw'),simplify(u_p-U*w),label='check that matrix U is correctly defined')\n",
    "Eqdisp('Phi',prot_p,label='protraction with respect to p')\n",
    "Eqdisp(r'\\frac{\\mathrm{d}\\Phi}{\\mathrm{d}h}',sprd_p,label='spread with respect to p')\n",
    "Eqdisp('(31)',soln_31,label=\"equation 31 is the antiderivative of dphi/dth. (hard-coded here, obtained on paper)\")\n",
    "Eqdisp(is_d31_30,label=\"is the expression in (31) a correct antiderivative of dphi/dth?\")"
   ]
  },
  {
   "cell_type": "markdown",
   "id": "dc52148e-d22b-4547-aa31-0d1798d51c6b",
   "metadata": {},
   "source": [
    "## 4.1.  Proof that all whisker lines will be tangent to the parabola \n",
    "\n",
    "The envelope conditions are...\n",
    "\n",
    "$\\left\\{\\begin{matrix}\n",
    "G(x,y,t) = 0\n",
    "\\\\ \n",
    "\\frac{\\partial F}{\\partial t} = 0\n",
    "\\end{matrix}\\right.$\n",
    "\n",
    "Where G is a family of curves, here specifically its the whisker lines. h is the single parameter that defines the family of lines. "
   ]
  },
  {
   "cell_type": "code",
   "execution_count": 16,
   "id": "3db8e6c2-5eef-4139-b2ad-da2fb41fdb9e",
   "metadata": {},
   "outputs": [],
   "source": [
    "#define G(x,y,h)\n",
    "G = (u_w[1]/u_w[0])*x - y + h\n",
    "\n",
    "#now multiply it by u2 since you can do that in the equation equal to zero...\n",
    "G_mult = sym.collect(sym.expand(sym.simplify(G*u_w[0])),h)\n",
    "\n",
    "#take the derivative of G_mult with respect to h to form the second envelope condition\n",
    "condition2 = G_mult.diff(h)\n",
    "\n",
    "#solve for h\n",
    "h_solve = solve(condition2,h)[0]\n",
    "\n",
    "#solve system of eqns by substituting h into G=0\n",
    "conditions_solve = sym.simplify(G_mult.subs({h:h_solve}))\n",
    "\n",
    "#again, since its equal to zero, we can multiply (\"both sides\") by (-4w1)\n",
    "conditions_solve_mult = conditions_solve*(-4*w1)\n",
    "\n",
    "# is it equal to the conic?\n",
    "is_equal_to_conic = conditions_solve_mult.equals(conic_w)"
   ]
  },
  {
   "cell_type": "code",
   "execution_count": 17,
   "id": "f1b59fda-eaba-474b-93c7-f38910e6b97b",
   "metadata": {},
   "outputs": [
    {
     "name": "stdout",
     "output_type": "stream",
     "text": [
      "The family of curves G(x,y,h)\n"
     ]
    },
    {
     "data": {
      "text/latex": [
       "$\\displaystyle G = h - y + \\frac{u_{2} x}{u_{1}} = h + \\frac{x \\left(h w_{2} - r_{2}\\right)}{h w_{1} - r_{1}} - y$"
      ],
      "text/plain": [
       "Eq(G, Eq(h - y + u2*x/u1, h + x*(h*w2 - r2)/(h*w1 - r1) - y))"
      ]
     },
     "metadata": {},
     "output_type": "display_data"
    },
    {
     "name": "stdout",
     "output_type": "stream",
     "text": [
      "\n",
      "\n",
      "Derivative of G with respect to h (second envelope condition)\n"
     ]
    },
    {
     "data": {
      "text/latex": [
       "$\\displaystyle \\frac{\\mathrm{d}G}{\\mathrm{d}h} = 0 = 2 h w_{1} - r_{1} - w_{1} y + w_{2} x$"
      ],
      "text/plain": [
       "Eq(\\frac{\\mathrm{d}G}{\\mathrm{d}h}, Eq(0, 2*h*w1 - r1 - w1*y + w2*x))"
      ]
     },
     "metadata": {},
     "output_type": "display_data"
    },
    {
     "name": "stdout",
     "output_type": "stream",
     "text": [
      "\n",
      "\n",
      "first condition (G=0) solved for h\n"
     ]
    },
    {
     "data": {
      "text/latex": [
       "$\\displaystyle h_{G} = \\frac{r_{1} + w_{1} y - w_{2} x}{2 w_{1}}$"
      ],
      "text/plain": [
       "Eq(h_G, (r1 + w1*y - w2*x)/(2*w1))"
      ]
     },
     "metadata": {},
     "output_type": "display_data"
    },
    {
     "name": "stdout",
     "output_type": "stream",
     "text": [
      "\n",
      "\n",
      "solution to system of equations\n"
     ]
    },
    {
     "data": {
      "text/latex": [
       "$\\displaystyle - 4 w_{1} \\left(r_{1} y - r_{2} x - \\frac{\\left(r_{1} + w_{1} y - w_{2} x\\right)^{2}}{4 w_{1}}\\right) = 0$"
      ],
      "text/plain": [
       "Eq(-4*w1*(r1*y - r2*x - (r1 + w1*y - w2*x)**2/(4*w1)), 0)"
      ]
     },
     "metadata": {},
     "output_type": "display_data"
    },
    {
     "name": "stdout",
     "output_type": "stream",
     "text": [
      "\n",
      "\n",
      "is it equal to the conic?\n"
     ]
    },
    {
     "data": {
      "text/plain": [
       "True"
      ]
     },
     "metadata": {},
     "output_type": "display_data"
    },
    {
     "name": "stdout",
     "output_type": "stream",
     "text": [
      "\n",
      "\n"
     ]
    }
   ],
   "source": [
    "#4.1 displays\n",
    "Eqdisp(\"G\",(u2/u1)*x-y+h,G,label='The family of curves G(x,y,h)')\n",
    "Eqdisp(r'\\frac{\\mathrm{d}G}{\\mathrm{d}h}',0,condition2,label='Derivative of G with respect to h (second envelope condition)')\n",
    "Eqdisp('h_G',h_solve, label='first condition (G=0) solved for h')\n",
    "Eqdisp(conditions_solve_mult,0,label = 'solution to system of equations')\n",
    "Eqdisp(is_equal_to_conic,label='is it equal to the conic?')"
   ]
  },
  {
   "cell_type": "markdown",
   "id": "930c0a53-0bce-48dd-8cb9-5be8d4541299",
   "metadata": {},
   "source": [
    "## 4.2.  Proof that the principal axes of the parabola are spanned by w and ⊥w"
   ]
  },
  {
   "cell_type": "code",
   "execution_count": 18,
   "id": "01f81e82-f999-4f41-a13c-cb2ec91a25af",
   "metadata": {},
   "outputs": [],
   "source": [
    "# take the eigenvalues of the A33 () matrix...\n",
    "v1 = A33.eigenvects()[0][2][0]\n",
    "v2 = A33.eigenvects()[1][2][0]\n",
    "\n",
    "#multiply by chosen constants \n",
    "basis_1 = v1*w2\n",
    "basis_2 = v2*w1"
   ]
  },
  {
   "cell_type": "code",
   "execution_count": 19,
   "id": "8f5aa429-d970-4a2d-bcf1-963f3f5d01bb",
   "metadata": {},
   "outputs": [
    {
     "name": "stdout",
     "output_type": "stream",
     "text": [
      "eigenvalues of A33\n"
     ]
    },
    {
     "data": {
      "text/latex": [
       "$\\displaystyle v_{1} = \\left[\\begin{matrix}\\frac{w_{1}}{w_{2}}\\\\1\\end{matrix}\\right]$"
      ],
      "text/plain": [
       "Eq(v_1, Matrix([\n",
       "[w1/w2],\n",
       "[    1]]))"
      ]
     },
     "metadata": {},
     "output_type": "display_data"
    },
    {
     "name": "stdout",
     "output_type": "stream",
     "text": [
      "\n",
      "\n"
     ]
    },
    {
     "data": {
      "text/latex": [
       "$\\displaystyle v_{2} = \\left[\\begin{matrix}- \\frac{w_{2}}{w_{1}}\\\\1\\end{matrix}\\right]$"
      ],
      "text/plain": [
       "Eq(v_2, Matrix([\n",
       "[-w2/w1],\n",
       "[     1]]))"
      ]
     },
     "metadata": {},
     "output_type": "display_data"
    },
    {
     "name": "stdout",
     "output_type": "stream",
     "text": [
      "\n",
      "\n",
      "chosen basis vectors\n"
     ]
    },
    {
     "data": {
      "text/latex": [
       "$\\displaystyle \\mathrm{basis_1} = \\left[\\begin{matrix}w_{1}\\\\w_{2}\\end{matrix}\\right]$"
      ],
      "text/plain": [
       "Eq(\\mathrm{basis_1}, Matrix([\n",
       "[w1],\n",
       "[w2]]))"
      ]
     },
     "metadata": {},
     "output_type": "display_data"
    },
    {
     "name": "stdout",
     "output_type": "stream",
     "text": [
      "\n",
      "\n"
     ]
    },
    {
     "data": {
      "text/latex": [
       "$\\displaystyle \\mathrm{basis_2} = \\left[\\begin{matrix}- w_{2}\\\\w_{1}\\end{matrix}\\right]$"
      ],
      "text/plain": [
       "Eq(\\mathrm{basis_2}, Matrix([\n",
       "[-w2],\n",
       "[ w1]]))"
      ]
     },
     "metadata": {},
     "output_type": "display_data"
    },
    {
     "name": "stdout",
     "output_type": "stream",
     "text": [
      "\n",
      "\n"
     ]
    }
   ],
   "source": [
    "#4.2 displays\n",
    "Eqdisp('v_1',v1,label='eigenvalues of A33')\n",
    "Eqdisp('v_2',v2)\n",
    "Eqdisp(r'\\mathrm{basis_1}',basis_1,label='chosen basis vectors')\n",
    "Eqdisp(r'\\mathrm{basis_2}',basis_2)"
   ]
  },
  {
   "cell_type": "markdown",
   "id": "280fc602-f130-4a77-9860-d2c48413e2a3",
   "metadata": {},
   "source": [
    "## 4.3. Proof that the focus of the parabola is located at the coordinates (p1,p2) in the x-y plane."
   ]
  },
  {
   "cell_type": "code",
   "execution_count": 20,
   "id": "6905bb1c-09cc-40b1-a0bb-489169d7c7ca",
   "metadata": {},
   "outputs": [],
   "source": [
    "#invert A\n",
    "A_w_inv = A_w.inv()\n",
    "\n",
    "#get values...\n",
    "K = A_w_inv[1,1]/2\n",
    "H = A_w_inv[0,1]\n",
    "S = A_w_inv[1,2]\n",
    "R = A_w_inv[0,2]\n",
    "\n",
    "#calculate focus...\n",
    "focus = sym.simplify((-K + H*sym.I)/(R + S*sym.I))\n",
    "\n",
    "#get real and imaginary parts\n",
    "xF = sym.re(focus)\n",
    "yF = sym.im(focus)"
   ]
  },
  {
   "cell_type": "code",
   "execution_count": 21,
   "id": "9796f6ec-3c45-467b-b0fb-b964fde6bd5c",
   "metadata": {},
   "outputs": [
    {
     "name": "stdout",
     "output_type": "stream",
     "text": [
      "Inverse of A\n"
     ]
    },
    {
     "data": {
      "text/latex": [
       "$\\displaystyle A^{-1} = \\left[\\begin{matrix}0 & - \\frac{r_{1}}{2 r_{1} w_{1} w_{2} - 2 r_{2} w_{1}^{2}} & - \\frac{1}{2 r_{1} w_{2} - 2 r_{2} w_{1}}\\\\- \\frac{r_{1}}{2 r_{1} w_{1} w_{2} - 2 r_{2} w_{1}^{2}} & - \\frac{r_{2}}{r_{1} w_{1} w_{2} - r_{2} w_{1}^{2}} & - \\frac{w_{2}}{2 r_{1} w_{1} w_{2} - 2 r_{2} w_{1}^{2}}\\\\- \\frac{1}{2 r_{1} w_{2} - 2 r_{2} w_{1}} & - \\frac{w_{2}}{2 r_{1} w_{1} w_{2} - 2 r_{2} w_{1}^{2}} & 0\\end{matrix}\\right]$"
      ],
      "text/plain": [
       "Eq(A^-1, Matrix([\n",
       "[                            0, -r1/(2*r1*w1*w2 - 2*r2*w1**2),        -1/(2*r1*w2 - 2*r2*w1)],\n",
       "[-r1/(2*r1*w1*w2 - 2*r2*w1**2),     -r2/(r1*w1*w2 - r2*w1**2), -w2/(2*r1*w1*w2 - 2*r2*w1**2)],\n",
       "[       -1/(2*r1*w2 - 2*r2*w1), -w2/(2*r1*w1*w2 - 2*r2*w1**2),                             0]]))"
      ]
     },
     "metadata": {},
     "output_type": "display_data"
    },
    {
     "name": "stdout",
     "output_type": "stream",
     "text": [
      "\n",
      "\n",
      "focus of the parabola\n"
     ]
    },
    {
     "data": {
      "text/latex": [
       "$\\displaystyle F = \\frac{i r_{1} - r_{2}}{w_{1} + i w_{2}}$"
      ],
      "text/plain": [
       "Eq(F, (I*r1 - r2)/(w1 + I*w2))"
      ]
     },
     "metadata": {},
     "output_type": "display_data"
    },
    {
     "name": "stdout",
     "output_type": "stream",
     "text": [
      "\n",
      "\n",
      "The real and imaginary parts of this focus are equal to the coordinates of the point (p1,p2)\n"
     ]
    },
    {
     "data": {
      "text/latex": [
       "$\\displaystyle x_{F} = p_{1} = \\frac{r_{1} w_{2}}{w_{1}^{2} + w_{2}^{2}} - \\frac{r_{2} w_{1}}{w_{1}^{2} + w_{2}^{2}}$"
      ],
      "text/plain": [
       "Eq(x_F, Eq(p_1, r1*w2/(w1**2 + w2**2) - r2*w1/(w1**2 + w2**2)))"
      ]
     },
     "metadata": {},
     "output_type": "display_data"
    },
    {
     "name": "stdout",
     "output_type": "stream",
     "text": [
      "\n",
      "\n"
     ]
    },
    {
     "data": {
      "text/latex": [
       "$\\displaystyle x_{F} = p_{2} = \\frac{r_{1} w_{1}}{w_{1}^{2} + w_{2}^{2}} + \\frac{r_{2} w_{2}}{w_{1}^{2} + w_{2}^{2}}$"
      ],
      "text/plain": [
       "Eq(x_F, Eq(p_2, r1*w1/(w1**2 + w2**2) + r2*w2/(w1**2 + w2**2)))"
      ]
     },
     "metadata": {},
     "output_type": "display_data"
    },
    {
     "name": "stdout",
     "output_type": "stream",
     "text": [
      "\n",
      "\n"
     ]
    }
   ],
   "source": [
    "#4.3 displays\n",
    "Eqdisp('A^-1',A_w_inv,label='Inverse of A')\n",
    "Eqdisp('F',focus,label='focus of the parabola')\n",
    "Eqdisp('x_F','p_1',xF,label='The real and imaginary parts of this focus are equal to the coordinates of the point (p1,p2)')\n",
    "Eqdisp('x_F','p_2',yF)"
   ]
  },
  {
   "cell_type": "markdown",
   "id": "2d2f487a-a8e8-41a2-a95e-537ee387d8b0",
   "metadata": {},
   "source": [
    "## 4.4. Proof that as θ changes with p_1and p_2  held constant, the control frame rotates about (p_1, p_2), the focus of the parabola"
   ]
  },
  {
   "cell_type": "code",
   "execution_count": 22,
   "id": "b9f68fb5-ef86-4da2-b7e9-9f29875b7a81",
   "metadata": {},
   "outputs": [],
   "source": [
    "#substitute s and theta terms into the p-space expression for r\n",
    "r_p_subs = r_p.subs({w1:w_x[0],w2:w_x[1]})\n",
    "\n",
    "#verify that the O matrix, derived from the P matrix (see paper), is orthogonal\n",
    "P = Matrix([[-p1,p2],[-p2,-p1]])\n",
    "O = sym.simplify(P/(sym.sqrt(p1**2 + p2**2)))\n",
    "is_equal_to_I = (O.T*O).equals(sym.eye(2))"
   ]
  },
  {
   "cell_type": "code",
   "execution_count": 23,
   "id": "70932e2c-62bf-4a3c-b1ba-99ec23ac04bf",
   "metadata": {},
   "outputs": [
    {
     "name": "stdout",
     "output_type": "stream",
     "text": [
      "r, in p space, expressed in s and theta terms\n"
     ]
    },
    {
     "data": {
      "text/latex": [
       "$\\displaystyle r = \\left[\\begin{matrix}p_{1} \\left(- s \\cos{\\left(\\theta \\right)} + 1\\right) + p_{2} s \\sin{\\left(\\theta \\right)}\\\\- p_{1} s \\sin{\\left(\\theta \\right)} + p_{2} \\left(- s \\cos{\\left(\\theta \\right)} + 1\\right)\\end{matrix}\\right]$"
      ],
      "text/plain": [
       "Eq(r, Matrix([\n",
       "[ p1*(-s*cos(\\theta) + 1) + p2*s*sin(\\theta)],\n",
       "[-p1*s*sin(\\theta) + p2*(-s*cos(\\theta) + 1)]]))"
      ]
     },
     "metadata": {},
     "output_type": "display_data"
    },
    {
     "name": "stdout",
     "output_type": "stream",
     "text": [
      "\n",
      "\n",
      "O matrix\n"
     ]
    },
    {
     "data": {
      "text/latex": [
       "$\\displaystyle O = \\left[\\begin{matrix}- \\frac{p_{1}}{\\sqrt{p_{1}^{2} + p_{2}^{2}}} & \\frac{p_{2}}{\\sqrt{p_{1}^{2} + p_{2}^{2}}}\\\\- \\frac{p_{2}}{\\sqrt{p_{1}^{2} + p_{2}^{2}}} & - \\frac{p_{1}}{\\sqrt{p_{1}^{2} + p_{2}^{2}}}\\end{matrix}\\right]$"
      ],
      "text/plain": [
       "Eq(O, Matrix([\n",
       "[-p1/sqrt(p1**2 + p2**2),  p2/sqrt(p1**2 + p2**2)],\n",
       "[-p2/sqrt(p1**2 + p2**2), -p1/sqrt(p1**2 + p2**2)]]))"
      ]
     },
     "metadata": {},
     "output_type": "display_data"
    },
    {
     "name": "stdout",
     "output_type": "stream",
     "text": [
      "\n",
      "\n",
      "is O orthogonal?\n"
     ]
    },
    {
     "data": {
      "text/plain": [
       "True"
      ]
     },
     "metadata": {},
     "output_type": "display_data"
    },
    {
     "name": "stdout",
     "output_type": "stream",
     "text": [
      "\n",
      "\n"
     ]
    }
   ],
   "source": [
    "Eqdisp('r',r_p_subs,label='r, in p space, expressed in s and theta terms')\n",
    "Eqdisp('O',O,label='O matrix')\n",
    "Eqdisp(is_equal_to_I,label='is O orthogonal?')"
   ]
  }
 ],
 "metadata": {
  "kernelspec": {
   "display_name": "Python 3 (ipykernel)",
   "language": "python",
   "name": "python3"
  },
  "language_info": {
   "codemirror_mode": {
    "name": "ipython",
    "version": 3
   },
   "file_extension": ".py",
   "mimetype": "text/x-python",
   "name": "python",
   "nbconvert_exporter": "python",
   "pygments_lexer": "ipython3",
   "version": "3.11.0"
  }
 },
 "nbformat": 4,
 "nbformat_minor": 5
}
